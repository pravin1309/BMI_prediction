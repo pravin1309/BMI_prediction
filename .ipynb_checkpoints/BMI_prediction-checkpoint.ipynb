{
 "cells": [
  {
   "cell_type": "code",
   "execution_count": 1,
   "id": "4e8f455c",
   "metadata": {},
   "outputs": [],
   "source": [
    "import pandas as pd\n",
    "import numpy as np"
   ]
  },
  {
   "cell_type": "code",
   "execution_count": 2,
   "id": "2a652b15",
   "metadata": {},
   "outputs": [
    {
     "data": {
      "text/html": [
       "<div>\n",
       "<style scoped>\n",
       "    .dataframe tbody tr th:only-of-type {\n",
       "        vertical-align: middle;\n",
       "    }\n",
       "\n",
       "    .dataframe tbody tr th {\n",
       "        vertical-align: top;\n",
       "    }\n",
       "\n",
       "    .dataframe thead th {\n",
       "        text-align: right;\n",
       "    }\n",
       "</style>\n",
       "<table border=\"1\" class=\"dataframe\">\n",
       "  <thead>\n",
       "    <tr style=\"text-align: right;\">\n",
       "      <th></th>\n",
       "      <th>Height</th>\n",
       "      <th>Weight</th>\n",
       "      <th>Index</th>\n",
       "    </tr>\n",
       "  </thead>\n",
       "  <tbody>\n",
       "    <tr>\n",
       "      <th>0</th>\n",
       "      <td>174</td>\n",
       "      <td>96</td>\n",
       "      <td>4</td>\n",
       "    </tr>\n",
       "    <tr>\n",
       "      <th>1</th>\n",
       "      <td>189</td>\n",
       "      <td>87</td>\n",
       "      <td>2</td>\n",
       "    </tr>\n",
       "    <tr>\n",
       "      <th>2</th>\n",
       "      <td>185</td>\n",
       "      <td>110</td>\n",
       "      <td>4</td>\n",
       "    </tr>\n",
       "    <tr>\n",
       "      <th>3</th>\n",
       "      <td>195</td>\n",
       "      <td>104</td>\n",
       "      <td>3</td>\n",
       "    </tr>\n",
       "    <tr>\n",
       "      <th>4</th>\n",
       "      <td>149</td>\n",
       "      <td>61</td>\n",
       "      <td>3</td>\n",
       "    </tr>\n",
       "    <tr>\n",
       "      <th>...</th>\n",
       "      <td>...</td>\n",
       "      <td>...</td>\n",
       "      <td>...</td>\n",
       "    </tr>\n",
       "    <tr>\n",
       "      <th>495</th>\n",
       "      <td>150</td>\n",
       "      <td>153</td>\n",
       "      <td>5</td>\n",
       "    </tr>\n",
       "    <tr>\n",
       "      <th>496</th>\n",
       "      <td>184</td>\n",
       "      <td>121</td>\n",
       "      <td>4</td>\n",
       "    </tr>\n",
       "    <tr>\n",
       "      <th>497</th>\n",
       "      <td>141</td>\n",
       "      <td>136</td>\n",
       "      <td>5</td>\n",
       "    </tr>\n",
       "    <tr>\n",
       "      <th>498</th>\n",
       "      <td>150</td>\n",
       "      <td>95</td>\n",
       "      <td>5</td>\n",
       "    </tr>\n",
       "    <tr>\n",
       "      <th>499</th>\n",
       "      <td>173</td>\n",
       "      <td>131</td>\n",
       "      <td>5</td>\n",
       "    </tr>\n",
       "  </tbody>\n",
       "</table>\n",
       "<p>500 rows × 3 columns</p>\n",
       "</div>"
      ],
      "text/plain": [
       "     Height  Weight  Index\n",
       "0       174      96      4\n",
       "1       189      87      2\n",
       "2       185     110      4\n",
       "3       195     104      3\n",
       "4       149      61      3\n",
       "..      ...     ...    ...\n",
       "495     150     153      5\n",
       "496     184     121      4\n",
       "497     141     136      5\n",
       "498     150      95      5\n",
       "499     173     131      5\n",
       "\n",
       "[500 rows x 3 columns]"
      ]
     },
     "execution_count": 2,
     "metadata": {},
     "output_type": "execute_result"
    }
   ],
   "source": [
    "df=pd.read_csv(\"BMI.csv\")[[\"Height\",\"Weight\",\"Index\"]]\n",
    "df"
   ]
  },
  {
   "cell_type": "markdown",
   "id": "afacff90",
   "metadata": {},
   "source": [
    "df[\"Gender\"]=df[\"Gender\"].map({\"Male\":1,\"Female\":0})\n",
    "df"
   ]
  },
  {
   "cell_type": "code",
   "execution_count": 3,
   "id": "5ed245eb",
   "metadata": {},
   "outputs": [
    {
     "data": {
      "text/plain": [
       "0      4\n",
       "1      2\n",
       "2      4\n",
       "3      3\n",
       "4      3\n",
       "      ..\n",
       "495    5\n",
       "496    4\n",
       "497    5\n",
       "498    5\n",
       "499    5\n",
       "Name: Index, Length: 500, dtype: int64"
      ]
     },
     "execution_count": 3,
     "metadata": {},
     "output_type": "execute_result"
    }
   ],
   "source": [
    "x=df.iloc[:,:-1]\n",
    "x\n",
    "y=df.iloc[:,-1]\n",
    "y"
   ]
  },
  {
   "cell_type": "code",
   "execution_count": 4,
   "id": "321a0fd1",
   "metadata": {},
   "outputs": [],
   "source": [
    "from sklearn.model_selection import train_test_split\n",
    "from sklearn.linear_model import LinearRegression"
   ]
  },
  {
   "cell_type": "code",
   "execution_count": 5,
   "id": "ef16e249",
   "metadata": {},
   "outputs": [],
   "source": [
    "x_train,x_test,y_train,y_test=train_test_split(x,y,test_size=0.3,random_state=100)"
   ]
  },
  {
   "cell_type": "code",
   "execution_count": 6,
   "id": "c6752f43",
   "metadata": {},
   "outputs": [
    {
     "data": {
      "text/plain": [
       "(150, 2)"
      ]
     },
     "execution_count": 6,
     "metadata": {},
     "output_type": "execute_result"
    }
   ],
   "source": [
    "x_test.shape"
   ]
  },
  {
   "cell_type": "code",
   "execution_count": 7,
   "id": "6d58fd8a",
   "metadata": {},
   "outputs": [],
   "source": [
    "model=LinearRegression()"
   ]
  },
  {
   "cell_type": "code",
   "execution_count": 8,
   "id": "791ff5f4",
   "metadata": {},
   "outputs": [
    {
     "data": {
      "text/plain": [
       "LinearRegression()"
      ]
     },
     "execution_count": 8,
     "metadata": {},
     "output_type": "execute_result"
    }
   ],
   "source": [
    "model.fit(x_train,y_train)"
   ]
  },
  {
   "cell_type": "code",
   "execution_count": 9,
   "id": "ea08f251",
   "metadata": {},
   "outputs": [
    {
     "data": {
      "text/plain": [
       "array([3.90303164, 4.94565292, 4.48191492, 4.03241904, 3.17402952,\n",
       "       3.78340752, 5.74810676, 3.04699688, 2.05238637, 3.81642912,\n",
       "       4.10098912, 1.81239107, 4.81230307, 2.23409124, 3.85846694,\n",
       "       5.64525163, 4.30939839, 4.12752139, 2.50980716, 4.87960971,\n",
       "       0.9946038 , 4.61652821, 5.16778791, 4.04631689, 3.2577609 ,\n",
       "       2.38639271, 4.06308588, 4.99888958, 3.66774585, 1.67777778,\n",
       "       3.6502298 , 2.77237227, 1.4745944 , 3.23484683, 2.81205534,\n",
       "       3.67819763, 4.507528  , 2.2595322 , 3.76807409, 4.06147819,\n",
       "       3.17638427, 3.86461202, 3.77312786, 2.75611967, 4.22945733,\n",
       "       2.7546841 , 1.77557914, 3.54341222, 3.36928799, 2.6619365 ,\n",
       "       4.34098442, 2.82468975, 2.82216287, 3.75055804, 4.02610183,\n",
       "       2.90968457, 2.45369936, 1.65629927, 5.78112836, 3.94489733,\n",
       "       3.67946107, 3.53944976, 4.69267894, 4.96839486, 2.65182897,\n",
       "       4.54560337, 4.6583939 , 4.1998818 , 5.19070198, 4.03603723,\n",
       "       3.47231525, 2.21513962, 2.90210393, 4.44004923, 5.04598116,\n",
       "       4.0971988 , 4.69015206, 2.39776368, 4.31066183, 1.8403589 ,\n",
       "       4.31301659, 3.62857917, 1.88096115, 3.06973882, 5.05718   ,\n",
       "       2.45639837, 1.22954533, 4.44889332, 4.70060385, 5.21091704,\n",
       "       4.53279683, 2.13881676, 3.30577167, 3.49396588, 3.35808915,\n",
       "       3.98802646, 2.9019318 , 4.41460828, 3.20435211, 2.298871  ,\n",
       "       3.79351505, 3.73918707, 4.60136691, 3.99687055, 2.59101166,\n",
       "       6.24216735, 5.5869612 , 5.91447821, 5.11943288, 5.95129014,\n",
       "       3.88011757, 4.60911969, 4.54669468, 2.87430822, 2.45117247,\n",
       "       2.27865594, 4.92526573, 5.50432114, 3.95356929, 4.72208235,\n",
       "       3.64643947, 4.76142116, 4.05785999, 4.87564726, 2.70253875,\n",
       "       4.2114249 , 2.20359652, 5.67574635, 4.75636739, 4.21917768,\n",
       "       5.72536482, 3.97016616, 3.2016531 , 4.43011383, 3.47340656,\n",
       "       4.9036151 , 4.21033359, 2.56666201, 2.66210862, 3.41528826,\n",
       "       5.73799923, 1.76041785, 3.64770291, 5.56657401, 2.39793581,\n",
       "       1.62201423, 4.65477571, 2.80430256, 4.39456534, 5.04345428])"
      ]
     },
     "execution_count": 9,
     "metadata": {},
     "output_type": "execute_result"
    }
   ],
   "source": [
    "y_pred=model.predict(x_test)\n",
    "y_pred"
   ]
  },
  {
   "cell_type": "code",
   "execution_count": 10,
   "id": "62f9d546",
   "metadata": {},
   "outputs": [
    {
     "data": {
      "text/plain": [
       "array([-0.03428504,  0.0330216 ])"
      ]
     },
     "execution_count": 10,
     "metadata": {},
     "output_type": "execute_result"
    }
   ],
   "source": [
    "model.coef_"
   ]
  },
  {
   "cell_type": "code",
   "execution_count": 11,
   "id": "f1b67639",
   "metadata": {},
   "outputs": [],
   "source": [
    "from sklearn import metrics"
   ]
  },
  {
   "cell_type": "code",
   "execution_count": 12,
   "id": "7fb610fe",
   "metadata": {},
   "outputs": [
    {
     "name": "stdout",
     "output_type": "stream",
     "text": [
      "R2 score for testing 0.838723547585764\n"
     ]
    }
   ],
   "source": [
    "print(\"R2 score for testing\",metrics.r2_score(y_test,y_pred))"
   ]
  },
  {
   "cell_type": "code",
   "execution_count": 13,
   "id": "60c5a8e0",
   "metadata": {},
   "outputs": [],
   "source": [
    "y_pred_train=model.predict(x_train)"
   ]
  },
  {
   "cell_type": "code",
   "execution_count": 14,
   "id": "62aa1369",
   "metadata": {},
   "outputs": [
    {
     "name": "stdout",
     "output_type": "stream",
     "text": [
      "R2 score for traing 0.8200684838760557\n"
     ]
    }
   ],
   "source": [
    "print(\"R2 score for traing\",metrics.r2_score(y_train,y_pred_train))"
   ]
  },
  {
   "cell_type": "markdown",
   "id": "d8863386",
   "metadata": {},
   "source": [
    "adjusted_r2=1-(1-r2)*(n-1)/(n-p-1)"
   ]
  },
  {
   "cell_type": "code",
   "execution_count": 15,
   "id": "5aea802b",
   "metadata": {},
   "outputs": [
    {
     "name": "stdout",
     "output_type": "stream",
     "text": [
      "Adj r2 for training data 0.8190314146188571\n",
      "Adj r2 for testing data 0.8365293101379512\n"
     ]
    }
   ],
   "source": [
    "def adj_r2(x,y):\n",
    "    r2=model.score(x,y)\n",
    "    n=x.shape[0]\n",
    "    p=x.shape[1]\n",
    "    adjusted_r2=1-(1-r2)*(n-1)/(n-p-1)\n",
    "    return adjusted_r2\n",
    "\n",
    "\n",
    "print(\"Adj r2 for training data\",adj_r2(x_train,y_train))\n",
    "\n",
    "print(\"Adj r2 for testing data\",adj_r2(x_test,y_test))"
   ]
  },
  {
   "cell_type": "code",
   "execution_count": 16,
   "id": "c0d18db2",
   "metadata": {},
   "outputs": [
    {
     "name": "stdout",
     "output_type": "stream",
     "text": [
      "mean_squared_error 0.28510809649905117\n",
      "mean_absolute_error 0.43753961255282275\n",
      "mean_absolute_error 111051066615960.11\n"
     ]
    }
   ],
   "source": [
    "print(\"mean_squared_error\",metrics.mean_squared_error(y_test,y_pred))\n",
    "print(\"mean_absolute_error\",metrics.mean_absolute_error(y_test,y_pred))\n",
    "print(\"mean_absolute_error\",metrics.mean_absolute_percentage_error(y_test,y_pred))\n"
   ]
  },
  {
   "cell_type": "code",
   "execution_count": 17,
   "id": "8f7ff182",
   "metadata": {},
   "outputs": [
    {
     "name": "stdout",
     "output_type": "stream",
     "text": [
      "Accuracy of the model 89.72923611931614\n"
     ]
    }
   ],
   "source": [
    "import numpy as np\n",
    "\n",
    "print(\"Accuracy of the model\",100-(np.median(np.abs((y_test-y_pred)/y_test))*100))"
   ]
  },
  {
   "cell_type": "code",
   "execution_count": null,
   "id": "0ef11455",
   "metadata": {},
   "outputs": [],
   "source": []
  },
  {
   "cell_type": "code",
   "execution_count": 18,
   "id": "8655f69c",
   "metadata": {},
   "outputs": [
    {
     "name": "stderr",
     "output_type": "stream",
     "text": [
      "C:\\Users\\mohit\\anaconda3\\lib\\site-packages\\sklearn\\base.py:450: UserWarning: X does not have valid feature names, but LinearRegression was fitted with feature names\n",
      "  warnings.warn(\n"
     ]
    }
   ],
   "source": [
    "result=model.predict(np.array([[150,100]]))\n"
   ]
  },
  {
   "cell_type": "code",
   "execution_count": 19,
   "id": "10f9881e",
   "metadata": {},
   "outputs": [
    {
     "data": {
      "text/plain": [
       "4.222795870547438"
      ]
     },
     "execution_count": 19,
     "metadata": {},
     "output_type": "execute_result"
    }
   ],
   "source": [
    "result[0]"
   ]
  },
  {
   "cell_type": "code",
   "execution_count": 20,
   "id": "54afc2f8",
   "metadata": {},
   "outputs": [],
   "source": [
    "import pickle\n",
    "pickle.dump(model,open(\"model.pkl\",\"wb\"))"
   ]
  },
  {
   "cell_type": "code",
   "execution_count": null,
   "id": "37657bae",
   "metadata": {},
   "outputs": [],
   "source": []
  },
  {
   "cell_type": "code",
   "execution_count": null,
   "id": "f0ed3ca9",
   "metadata": {},
   "outputs": [],
   "source": []
  },
  {
   "cell_type": "markdown",
   "id": "43d11df4",
   "metadata": {},
   "source": [
    "BMI \n",
    "\n",
    "import numpy as np\n",
    "from flask import Flask, request, jsonify, render_template\n",
    "import pickle\n",
    "\n",
    "app = Flask(__name__)\n",
    "model = pickle.load(open('model.pkl', 'rb'))\n",
    "\n",
    "@app.route('/')\n",
    "def home():\n",
    "    return render_template('BMI.html')\n",
    "\n",
    "@app.route('/predict',methods=['POST'])\n",
    "def predict():\n",
    "    '''\n",
    "    For rendering results on HTML GUI\n",
    "    '''\n",
    "    initial_features = [int(x) for x in request.form.values()]\n",
    "    final_feature = [np.array(initial_features)]\n",
    "    prediction = model.predict(final_feature)\n",
    "\n",
    "    output = round(prediction[0], 2)\n",
    "\n",
    "    return render_template('BMI.html', prediction_text='BMI of the person is {}'.format(output))\n",
    "\n",
    "\n",
    "\n",
    "\n",
    "if __name__ == \"__main__\":\n",
    "    app.run(debug=True)"
   ]
  },
  {
   "cell_type": "markdown",
   "id": "8a90aba2",
   "metadata": {},
   "source": [
    "house price\n",
    "\n",
    "from flask import Flask,render_template,request\n",
    "import pickle\n",
    "import numpy as np\n",
    "app = Flask(__name__)\n",
    "model=pickle.load(open('model.pkl','rb'))\n",
    "\n",
    "@app.route('/')\n",
    "def home():\n",
    "    return render_template('BMI.html')\n",
    "\n",
    "@app.route('/predict',methods=[\"POST\"])\n",
    "def predict():\n",
    "    feature=[int(x) for x in request.form.values()]\n",
    "    feature_final=[np.array(feature)]\n",
    "    prediction=model.predict(feature_final)\n",
    "    output=round(prediction[0],1)\n",
    "    return render_template('BMI.html',prediction_text='BMI of the person is. {}'.format(output))\n",
    "\n",
    "if __name__==\"__main__\":\n",
    "    app.run(debug=True)\n",
    "\n"
   ]
  },
  {
   "cell_type": "markdown",
   "id": "b6ca5fd9",
   "metadata": {},
   "source": [
    "BMI\n",
    "\n",
    "<!DOCTYPE html>\n",
    "<html >\n",
    "<!--From https://codepen.io/frytyler/pen/EGdtg-->\n",
    "<head>\n",
    "  <meta charset=\"UTF-8\">\n",
    "  <title>ML API</title>\n",
    "  <link href='https://fonts.googleapis.com/css?family=Pacifico' rel='stylesheet' type='text/css'>\n",
    "<link href='https://fonts.googleapis.com/css?family=Arimo' rel='stylesheet' type='text/css'>\n",
    "<link href='https://fonts.googleapis.com/css?family=Hind:300' rel='stylesheet' type='text/css'>\n",
    "<link href='https://fonts.googleapis.com/css?family=Open+Sans+Condensed:300' rel='stylesheet' type='text/css'>\n",
    "<link rel=\"stylesheet\" href=\"{{ url_for('static', filename='css/style.css') }}\">\n",
    "  \n",
    "</head>\n",
    "\n",
    "<body>\n",
    " <div class=\"login\">\n",
    "\t<h1> BMI Prediction</h1>\n",
    "\n",
    "     <!-- Main Input For Receiving Query to our ML -->\n",
    "    <form action=\"{{ url_for('predict')}}\"method=\"post\">\n",
    "    \t<input type=\"text\" name=\"height\" placeholder=\"Height\" required=\"required\" />\n",
    "        <input type=\"text\" name=\"Weight\" placeholder=\"Weight\" required=\"required\" />\n",
    "\t\t\n",
    "\n",
    "        <button type=\"submit\" class=\"btn btn-primary btn-block btn-large\">Predict</button>\n",
    "    </form>\n",
    "\n",
    "   <br>\n",
    "   <br>\n",
    "   {{ prediction_text }}\n",
    "\n",
    " </div>\n",
    "\n",
    "\n",
    "</body>\n",
    "</html>\n"
   ]
  },
  {
   "cell_type": "markdown",
   "id": "9f17781a",
   "metadata": {},
   "source": [
    "house price\n",
    "\n",
    "<html>\n",
    "<head>\n",
    "<style>\n",
    ".button {\n",
    "background-color: #23b83c;\n",
    "\tborder: 2px solid #020353;\n",
    "\tcolor: whitesmoke;\n",
    "\tpadding: 0.5em 0.5em;\n",
    "\ttext-align: center;\n",
    "\ttext-decoration: none;\n",
    "\tfont-size: 1em;\n",
    "\tdisplay: inline-block;\n",
    "\twidth: 18%;\n",
    "\tborder-radius: 5px;\n",
    "\tbox-shadow: 3px 3px 8px 0 #000; \n",
    "}\n",
    "body {\n",
    "  background-image: url(\"{{url_for('static', filename='background.jpg')}}\");\n",
    "  background-repeat: no-repeat;\n",
    " background-size: 100% 100%;\n",
    "}\n",
    "h1{\n",
    "   background-color: Green;\n",
    "  color: white;\n",
    "}\n",
    "h3{\n",
    "   background-color: green;\n",
    "  color: white;\n",
    "}\n",
    "\n",
    "\n",
    "</style>\n",
    "</head>\n",
    "<body>\n",
    "<center>\n",
    "\n",
    "\n",
    "<h1>BMI Prediction</h1>\n",
    "<pre>\n",
    "<form action=\"{{ url_for('predict')}}\"method=\"post\">\n",
    "<input type=\"text\" name=\"height\" placeholder=\"Height\" required=\"required\" />\n",
    "<input type=\"text\" name=\"Weight\" placeholder=\"Weight\" required=\"required\" />\n",
    "\n",
    "\n",
    "\n",
    "<button type=\"submit\" class=\"button\">Predict</button>\n",
    "</form>\n",
    "<textarea>\n",
    "{{prediction_text}}\n",
    "</textarea>\n",
    "</pre>\n",
    "</center>\n",
    "</body>\n",
    "</html>"
   ]
  }
 ],
 "metadata": {
  "kernelspec": {
   "display_name": "Python 3 (ipykernel)",
   "language": "python",
   "name": "python3"
  },
  "language_info": {
   "codemirror_mode": {
    "name": "ipython",
    "version": 3
   },
   "file_extension": ".py",
   "mimetype": "text/x-python",
   "name": "python",
   "nbconvert_exporter": "python",
   "pygments_lexer": "ipython3",
   "version": "3.9.12"
  }
 },
 "nbformat": 4,
 "nbformat_minor": 5
}
